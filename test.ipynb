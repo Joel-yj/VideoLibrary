{
 "cells": [
  {
   "cell_type": "code",
   "execution_count": 1,
   "metadata": {},
   "outputs": [],
   "source": [
    "import json as js\n",
    "import pyarrow as pa\n",
    "from pyarrow import json as pj\n",
    "import pandas as pd\n",
    "import json_helper as jh\n"
   ]
  },
  {
   "cell_type": "code",
   "execution_count": null,
   "metadata": {},
   "outputs": [],
   "source": [
    "jh.json_to_jsonl('database/newdata1.json')\n"
   ]
  },
  {
   "cell_type": "code",
   "execution_count": null,
   "metadata": {},
   "outputs": [],
   "source": [
    "jh.update_jsonl()"
   ]
  },
  {
   "cell_type": "code",
   "execution_count": 2,
   "metadata": {},
   "outputs": [
    {
     "data": {
      "text/html": [
       "<div>\n",
       "<style scoped>\n",
       "    .dataframe tbody tr th:only-of-type {\n",
       "        vertical-align: middle;\n",
       "    }\n",
       "\n",
       "    .dataframe tbody tr th {\n",
       "        vertical-align: top;\n",
       "    }\n",
       "\n",
       "    .dataframe thead th {\n",
       "        text-align: right;\n",
       "    }\n",
       "</style>\n",
       "<table border=\"1\" class=\"dataframe\">\n",
       "  <thead>\n",
       "    <tr style=\"text-align: right;\">\n",
       "      <th></th>\n",
       "      <th>video_path</th>\n",
       "      <th>age</th>\n",
       "      <th>carrying_backpack</th>\n",
       "      <th>carrying_bag</th>\n",
       "      <th>carrying_handbag</th>\n",
       "      <th>lower_body_clothing</th>\n",
       "      <th>length_of_lower_body_clothing</th>\n",
       "      <th>sleeve_length</th>\n",
       "      <th>hair_length</th>\n",
       "      <th>wearing_hat</th>\n",
       "      <th>gender</th>\n",
       "      <th>color_upper_body_clothing</th>\n",
       "      <th>color_lower_body_clothing</th>\n",
       "    </tr>\n",
       "  </thead>\n",
       "  <tbody>\n",
       "    <tr>\n",
       "      <th>0</th>\n",
       "      <td>videos/test3.mp4</td>\n",
       "      <td>74</td>\n",
       "      <td>T</td>\n",
       "      <td>T</td>\n",
       "      <td>T</td>\n",
       "      <td>jeans</td>\n",
       "      <td>short</td>\n",
       "      <td>short</td>\n",
       "      <td>medium</td>\n",
       "      <td>T</td>\n",
       "      <td>F</td>\n",
       "      <td>Blue</td>\n",
       "      <td>White</td>\n",
       "    </tr>\n",
       "    <tr>\n",
       "      <th>1</th>\n",
       "      <td>videos/test4.mp4</td>\n",
       "      <td>21</td>\n",
       "      <td>T</td>\n",
       "      <td>T</td>\n",
       "      <td>T</td>\n",
       "      <td>skirt</td>\n",
       "      <td>long</td>\n",
       "      <td>short</td>\n",
       "      <td>medium</td>\n",
       "      <td>F</td>\n",
       "      <td>M</td>\n",
       "      <td>Blue</td>\n",
       "      <td>White</td>\n",
       "    </tr>\n",
       "    <tr>\n",
       "      <th>2</th>\n",
       "      <td>videos/test1.mp4</td>\n",
       "      <td>88</td>\n",
       "      <td>F</td>\n",
       "      <td>T</td>\n",
       "      <td>F</td>\n",
       "      <td>pants</td>\n",
       "      <td>long</td>\n",
       "      <td>short</td>\n",
       "      <td>bald</td>\n",
       "      <td>T</td>\n",
       "      <td>M</td>\n",
       "      <td>White</td>\n",
       "      <td>Blue</td>\n",
       "    </tr>\n",
       "    <tr>\n",
       "      <th>3</th>\n",
       "      <td>videos/test3.mp4</td>\n",
       "      <td>58</td>\n",
       "      <td>T</td>\n",
       "      <td>F</td>\n",
       "      <td>F</td>\n",
       "      <td>jeans</td>\n",
       "      <td>short</td>\n",
       "      <td>short</td>\n",
       "      <td>medium</td>\n",
       "      <td>T</td>\n",
       "      <td>M</td>\n",
       "      <td>Blue</td>\n",
       "      <td>White</td>\n",
       "    </tr>\n",
       "    <tr>\n",
       "      <th>4</th>\n",
       "      <td>videos/test4.mp4</td>\n",
       "      <td>27</td>\n",
       "      <td>F</td>\n",
       "      <td>T</td>\n",
       "      <td>F</td>\n",
       "      <td>jeans</td>\n",
       "      <td>long</td>\n",
       "      <td>medium</td>\n",
       "      <td>short</td>\n",
       "      <td>F</td>\n",
       "      <td>F</td>\n",
       "      <td>Green</td>\n",
       "      <td>Red</td>\n",
       "    </tr>\n",
       "    <tr>\n",
       "      <th>...</th>\n",
       "      <td>...</td>\n",
       "      <td>...</td>\n",
       "      <td>...</td>\n",
       "      <td>...</td>\n",
       "      <td>...</td>\n",
       "      <td>...</td>\n",
       "      <td>...</td>\n",
       "      <td>...</td>\n",
       "      <td>...</td>\n",
       "      <td>...</td>\n",
       "      <td>...</td>\n",
       "      <td>...</td>\n",
       "      <td>...</td>\n",
       "    </tr>\n",
       "    <tr>\n",
       "      <th>2000005</th>\n",
       "      <td>videos/test2.mp4</td>\n",
       "      <td>57</td>\n",
       "      <td>F</td>\n",
       "      <td>T</td>\n",
       "      <td>T</td>\n",
       "      <td>pants</td>\n",
       "      <td>short</td>\n",
       "      <td>long</td>\n",
       "      <td>short</td>\n",
       "      <td>T</td>\n",
       "      <td>M</td>\n",
       "      <td>Green</td>\n",
       "      <td>Red</td>\n",
       "    </tr>\n",
       "    <tr>\n",
       "      <th>2000006</th>\n",
       "      <td>videos/test2.mp4</td>\n",
       "      <td>28</td>\n",
       "      <td>F</td>\n",
       "      <td>T</td>\n",
       "      <td>T</td>\n",
       "      <td>jeans</td>\n",
       "      <td>medium</td>\n",
       "      <td>short</td>\n",
       "      <td>bald</td>\n",
       "      <td>T</td>\n",
       "      <td>F</td>\n",
       "      <td>Blue</td>\n",
       "      <td>Blue</td>\n",
       "    </tr>\n",
       "    <tr>\n",
       "      <th>2000007</th>\n",
       "      <td>videos/test2.mp4</td>\n",
       "      <td>48</td>\n",
       "      <td>F</td>\n",
       "      <td>F</td>\n",
       "      <td>T</td>\n",
       "      <td>pants</td>\n",
       "      <td>long</td>\n",
       "      <td>short</td>\n",
       "      <td>bald</td>\n",
       "      <td>T</td>\n",
       "      <td>M</td>\n",
       "      <td>Green</td>\n",
       "      <td>Blue</td>\n",
       "    </tr>\n",
       "    <tr>\n",
       "      <th>2000008</th>\n",
       "      <td>videos/test3.mp4</td>\n",
       "      <td>30</td>\n",
       "      <td>T</td>\n",
       "      <td>T</td>\n",
       "      <td>T</td>\n",
       "      <td>pants</td>\n",
       "      <td>short</td>\n",
       "      <td>short</td>\n",
       "      <td>medium</td>\n",
       "      <td>F</td>\n",
       "      <td>F</td>\n",
       "      <td>Red</td>\n",
       "      <td>White</td>\n",
       "    </tr>\n",
       "    <tr>\n",
       "      <th>2000009</th>\n",
       "      <td>videos/test4.mp4</td>\n",
       "      <td>62</td>\n",
       "      <td>F</td>\n",
       "      <td>T</td>\n",
       "      <td>F</td>\n",
       "      <td>jeans</td>\n",
       "      <td>long</td>\n",
       "      <td>short</td>\n",
       "      <td>bald</td>\n",
       "      <td>T</td>\n",
       "      <td>M</td>\n",
       "      <td>Blue</td>\n",
       "      <td>Red</td>\n",
       "    </tr>\n",
       "  </tbody>\n",
       "</table>\n",
       "<p>2000010 rows × 13 columns</p>\n",
       "</div>"
      ],
      "text/plain": [
       "               video_path  age carrying_backpack carrying_bag  \\\n",
       "0        videos/test3.mp4   74                 T            T   \n",
       "1        videos/test4.mp4   21                 T            T   \n",
       "2        videos/test1.mp4   88                 F            T   \n",
       "3        videos/test3.mp4   58                 T            F   \n",
       "4        videos/test4.mp4   27                 F            T   \n",
       "...                   ...  ...               ...          ...   \n",
       "2000005  videos/test2.mp4   57                 F            T   \n",
       "2000006  videos/test2.mp4   28                 F            T   \n",
       "2000007  videos/test2.mp4   48                 F            F   \n",
       "2000008  videos/test3.mp4   30                 T            T   \n",
       "2000009  videos/test4.mp4   62                 F            T   \n",
       "\n",
       "        carrying_handbag lower_body_clothing length_of_lower_body_clothing  \\\n",
       "0                      T               jeans                         short   \n",
       "1                      T               skirt                          long   \n",
       "2                      F               pants                          long   \n",
       "3                      F               jeans                         short   \n",
       "4                      F               jeans                          long   \n",
       "...                  ...                 ...                           ...   \n",
       "2000005                T               pants                         short   \n",
       "2000006                T               jeans                        medium   \n",
       "2000007                T               pants                          long   \n",
       "2000008                T               pants                         short   \n",
       "2000009                F               jeans                          long   \n",
       "\n",
       "        sleeve_length hair_length wearing_hat gender  \\\n",
       "0               short      medium           T      F   \n",
       "1               short      medium           F      M   \n",
       "2               short        bald           T      M   \n",
       "3               short      medium           T      M   \n",
       "4              medium       short           F      F   \n",
       "...               ...         ...         ...    ...   \n",
       "2000005          long       short           T      M   \n",
       "2000006         short        bald           T      F   \n",
       "2000007         short        bald           T      M   \n",
       "2000008         short      medium           F      F   \n",
       "2000009         short        bald           T      M   \n",
       "\n",
       "        color_upper_body_clothing color_lower_body_clothing  \n",
       "0                            Blue                     White  \n",
       "1                            Blue                     White  \n",
       "2                           White                      Blue  \n",
       "3                            Blue                     White  \n",
       "4                           Green                       Red  \n",
       "...                           ...                       ...  \n",
       "2000005                     Green                       Red  \n",
       "2000006                      Blue                      Blue  \n",
       "2000007                     Green                      Blue  \n",
       "2000008                       Red                     White  \n",
       "2000009                      Blue                       Red  \n",
       "\n",
       "[2000010 rows x 13 columns]"
      ]
     },
     "execution_count": 2,
     "metadata": {},
     "output_type": "execute_result"
    }
   ],
   "source": [
    "table = pj.read_json('database/data.jsonl')\n",
    "tabledf = table.to_pandas()\n",
    "tabledf"
   ]
  },
  {
   "cell_type": "code",
   "execution_count": null,
   "metadata": {},
   "outputs": [],
   "source": [
    "rows = tabledf.loc[(tabledf['age'] >= 40) & (tabledf['age'] <= 50)]\n",
    "\n",
    "vidpaths = rows['video_path']\n",
    "vidpaths"
   ]
  },
  {
   "cell_type": "code",
   "execution_count": null,
   "metadata": {},
   "outputs": [],
   "source": [
    "from IPython.core.display import Video\n",
    "\n",
    "vids = vidpaths.unique()\n",
    "print(vids)\n",
    "Video(vids[2],width=480,height=480)"
   ]
  },
  {
   "cell_type": "code",
   "execution_count": 12,
   "metadata": {},
   "outputs": [
    {
     "data": {
      "text/plain": [
       "['age',\n",
       " 'carrying_backpack',\n",
       " 'carrying_bag',\n",
       " 'carrying_handbag',\n",
       " 'lower_body_clothing',\n",
       " 'length_of_lower_body_clothing',\n",
       " 'sleeve_length',\n",
       " 'hair_length',\n",
       " 'wearing_hat',\n",
       " 'gender',\n",
       " 'color_upper_body_clothing',\n",
       " 'color_lower_body_clothing']"
      ]
     },
     "execution_count": 12,
     "metadata": {},
     "output_type": "execute_result"
    }
   ],
   "source": [
    "from pyarrow import json\n",
    "table = json.read_json('database/newdata1.jsonl')\n",
    "df = table.to_pandas()\n",
    "colnames = df.keys()\n",
    "colnames = colnames.tolist()[1:]\n",
    "colnames\n"
   ]
  },
  {
   "cell_type": "code",
   "execution_count": 15,
   "metadata": {},
   "outputs": [
    {
     "data": {
      "text/plain": [
       "pandas.core.frame.DataFrame"
      ]
     },
     "execution_count": 15,
     "metadata": {},
     "output_type": "execute_result"
    }
   ],
   "source": [
    "from pyarrow import json\n",
    "table = json.read_json('database/newdata1.jsonl')\n",
    "df = table.to_pandas()\n",
    "type(df)"
   ]
  },
  {
   "cell_type": "code",
   "execution_count": 50,
   "metadata": {},
   "outputs": [
    {
     "data": {
      "text/plain": [
       "'/Users/joel/Downloads/elasticsearch-8.6.1/config/certs'"
      ]
     },
     "execution_count": 50,
     "metadata": {},
     "output_type": "execute_result"
    }
   ],
   "source": [
    "import os\n",
    "os.getcwd()\n",
    "\n",
    "os.chdir('/Users/joel/Downloads/elasticsearch-8.6.1/config/certs/')\n",
    "os.getcwd()"
   ]
  },
  {
   "cell_type": "code",
   "execution_count": 55,
   "metadata": {},
   "outputs": [
    {
     "data": {
      "text/plain": [
       "ObjectApiResponse({'name': '90.136.189.118.static.m1net.com.sg', 'cluster_name': 'elasticsearch', 'cluster_uuid': '2ldk5_PsSiWnK83p_OD-Yw', 'version': {'number': '8.6.1', 'build_flavor': 'default', 'build_type': 'tar', 'build_hash': '180c9830da956993e59e2cd70eb32b5e383ea42c', 'build_date': '2023-01-24T21:35:11.506992272Z', 'build_snapshot': False, 'lucene_version': '9.4.2', 'minimum_wire_compatibility_version': '7.17.0', 'minimum_index_compatibility_version': '7.0.0'}, 'tagline': 'You Know, for Search'})"
      ]
     },
     "execution_count": 55,
     "metadata": {},
     "output_type": "execute_result"
    }
   ],
   "source": [
    "from elasticsearch import Elasticsearch\n",
    "\n",
    "password = \"0X=9*RicED0HZvTrYrxN\"\n",
    "\n",
    "es = Elasticsearch(hosts =\"https://localhost:9200\",ca_certs=\"/Users/joel/Downloads/elasticsearch-8.6.1/config/certs/http_ca.crt\",\n",
    "basic_auth=(\"elastic\", password))\n",
    "\n",
    "es.info()"
   ]
  },
  {
   "cell_type": "code",
   "execution_count": 42,
   "metadata": {},
   "outputs": [
    {
     "ename": "AuthenticationException",
     "evalue": "AuthenticationException(401, 'security_exception', 'unable to authenticate user [elastic] for REST request [/]')",
     "output_type": "error",
     "traceback": [
      "\u001b[0;31m---------------------------------------------------------------------------\u001b[0m",
      "\u001b[0;31mAuthenticationException\u001b[0m                   Traceback (most recent call last)",
      "Cell \u001b[0;32mIn[42], line 11\u001b[0m\n\u001b[1;32m      5\u001b[0m cert_fingerprint \u001b[39m=\u001b[39m \u001b[39m\"\u001b[39m\u001b[39mDF:2C:B4:D7:82:67:91:39:BF:3E:8B:A9:8B:B0:8F:83:D6:07:F4:35:59:BF:8A:68:CA:B5:97:FD:CF:F2:F9:3C\u001b[39m\u001b[39m\"\u001b[39m\n\u001b[1;32m      8\u001b[0m es \u001b[39m=\u001b[39m Elasticsearch(hosts \u001b[39m=\u001b[39m\u001b[39m\"\u001b[39m\u001b[39mhttps://localhost:9200\u001b[39m\u001b[39m\"\u001b[39m,ssl_assert_fingerprint\u001b[39m=\u001b[39mcert_fingerprint,\n\u001b[1;32m      9\u001b[0m basic_auth\u001b[39m=\u001b[39m(\u001b[39m\"\u001b[39m\u001b[39melastic\u001b[39m\u001b[39m\"\u001b[39m, password))\n\u001b[0;32m---> 11\u001b[0m es\u001b[39m.\u001b[39;49minfo()\n",
      "File \u001b[0;32m~/Downloads/HTX - pyQT5/venv/lib/python3.10/site-packages/elasticsearch/_sync/client/utils.py:414\u001b[0m, in \u001b[0;36m_rewrite_parameters.<locals>.wrapper.<locals>.wrapped\u001b[0;34m(*args, **kwargs)\u001b[0m\n\u001b[1;32m    411\u001b[0m         \u001b[39mexcept\u001b[39;00m \u001b[39mKeyError\u001b[39;00m:\n\u001b[1;32m    412\u001b[0m             \u001b[39mpass\u001b[39;00m\n\u001b[0;32m--> 414\u001b[0m \u001b[39mreturn\u001b[39;00m api(\u001b[39m*\u001b[39;49margs, \u001b[39m*\u001b[39;49m\u001b[39m*\u001b[39;49mkwargs)\n",
      "File \u001b[0;32m~/Downloads/HTX - pyQT5/venv/lib/python3.10/site-packages/elasticsearch/_sync/client/__init__.py:2296\u001b[0m, in \u001b[0;36mElasticsearch.info\u001b[0;34m(self, error_trace, filter_path, human, pretty)\u001b[0m\n\u001b[1;32m   2294\u001b[0m     __query[\u001b[39m\"\u001b[39m\u001b[39mpretty\u001b[39m\u001b[39m\"\u001b[39m] \u001b[39m=\u001b[39m pretty\n\u001b[1;32m   2295\u001b[0m __headers \u001b[39m=\u001b[39m {\u001b[39m\"\u001b[39m\u001b[39maccept\u001b[39m\u001b[39m\"\u001b[39m: \u001b[39m\"\u001b[39m\u001b[39mapplication/json\u001b[39m\u001b[39m\"\u001b[39m}\n\u001b[0;32m-> 2296\u001b[0m \u001b[39mreturn\u001b[39;00m \u001b[39mself\u001b[39;49m\u001b[39m.\u001b[39;49mperform_request(  \u001b[39m# type: ignore[return-value]\u001b[39;49;00m\n\u001b[1;32m   2297\u001b[0m     \u001b[39m\"\u001b[39;49m\u001b[39mGET\u001b[39;49m\u001b[39m\"\u001b[39;49m, __path, params\u001b[39m=\u001b[39;49m__query, headers\u001b[39m=\u001b[39;49m__headers\n\u001b[1;32m   2298\u001b[0m )\n",
      "File \u001b[0;32m~/Downloads/HTX - pyQT5/venv/lib/python3.10/site-packages/elasticsearch/_sync/client/_base.py:321\u001b[0m, in \u001b[0;36mBaseClient.perform_request\u001b[0;34m(self, method, path, params, headers, body)\u001b[0m\n\u001b[1;32m    318\u001b[0m         \u001b[39mexcept\u001b[39;00m (\u001b[39mValueError\u001b[39;00m, \u001b[39mKeyError\u001b[39;00m, \u001b[39mTypeError\u001b[39;00m):\n\u001b[1;32m    319\u001b[0m             \u001b[39mpass\u001b[39;00m\n\u001b[0;32m--> 321\u001b[0m     \u001b[39mraise\u001b[39;00m HTTP_EXCEPTIONS\u001b[39m.\u001b[39mget(meta\u001b[39m.\u001b[39mstatus, ApiError)(\n\u001b[1;32m    322\u001b[0m         message\u001b[39m=\u001b[39mmessage, meta\u001b[39m=\u001b[39mmeta, body\u001b[39m=\u001b[39mresp_body\n\u001b[1;32m    323\u001b[0m     )\n\u001b[1;32m    325\u001b[0m \u001b[39m# 'X-Elastic-Product: Elasticsearch' should be on every 2XX response.\u001b[39;00m\n\u001b[1;32m    326\u001b[0m \u001b[39mif\u001b[39;00m \u001b[39mnot\u001b[39;00m \u001b[39mself\u001b[39m\u001b[39m.\u001b[39m_verified_elasticsearch:\n\u001b[1;32m    327\u001b[0m     \u001b[39m# If the header is set we mark the server as verified.\u001b[39;00m\n",
      "\u001b[0;31mAuthenticationException\u001b[0m: AuthenticationException(401, 'security_exception', 'unable to authenticate user [elastic] for REST request [/]')"
     ]
    }
   ],
   "source": [
    "from elasticsearch import Elasticsearch\n",
    "import os\n",
    "\n",
    "password = \"<0X=9*RicED0HZvTrYrxN>\"\n",
    "cert_fingerprint = \"DF:2C:B4:D7:82:67:91:39:BF:3E:8B:A9:8B:B0:8F:83:D6:07:F4:35:59:BF:8A:68:CA:B5:97:FD:CF:F2:F9:3C\"\n",
    "\n",
    "\n",
    "es = Elasticsearch(hosts =\"https://localhost:9200\",ssl_assert_fingerprint=cert_fingerprint,\n",
    "basic_auth=(\"elastic\", password))\n",
    "\n",
    "es.info()"
   ]
  }
 ],
 "metadata": {
  "kernelspec": {
   "display_name": "venv",
   "language": "python",
   "name": "python3"
  },
  "language_info": {
   "codemirror_mode": {
    "name": "ipython",
    "version": 3
   },
   "file_extension": ".py",
   "mimetype": "text/x-python",
   "name": "python",
   "nbconvert_exporter": "python",
   "pygments_lexer": "ipython3",
   "version": "3.10.10"
  },
  "orig_nbformat": 4,
  "vscode": {
   "interpreter": {
    "hash": "b2475a1665553e936b20a4bdbc66f9e5411f1b787c217f8c1a80d2614897e977"
   }
  }
 },
 "nbformat": 4,
 "nbformat_minor": 2
}
